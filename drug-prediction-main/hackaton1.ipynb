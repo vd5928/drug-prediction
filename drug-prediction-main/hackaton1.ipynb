{
 "cells": [
  {
   "cell_type": "code",
   "execution_count": 1,
   "id": "eeafa1b5",
   "metadata": {},
   "outputs": [],
   "source": [
    "import pandas as pd\n",
    "import numpy as np"
   ]
  },
  {
   "cell_type": "code",
   "execution_count": 2,
   "id": "d4b115b0",
   "metadata": {},
   "outputs": [],
   "source": [
    "import matplotlib.pyplot as plt\n",
    "import seaborn as sns\n",
    "import plotly as px\n",
    "plt.style.use('fivethirtyeight')\n",
    "%matplotlib inline"
   ]
  },
  {
   "cell_type": "code",
   "execution_count": 3,
   "id": "0c5792a5",
   "metadata": {},
   "outputs": [],
   "source": [
    "from textblob import TextBlob"
   ]
  },
  {
   "cell_type": "code",
   "execution_count": 4,
   "id": "5c500ffd",
   "metadata": {},
   "outputs": [],
   "source": [
    "df = pd.read_csv(\"drugsComTrain_raw.csv\")"
   ]
  },
  {
   "cell_type": "code",
   "execution_count": 5,
   "id": "39600f9d",
   "metadata": {},
   "outputs": [
    {
     "data": {
      "text/html": [
       "<div>\n",
       "<style scoped>\n",
       "    .dataframe tbody tr th:only-of-type {\n",
       "        vertical-align: middle;\n",
       "    }\n",
       "\n",
       "    .dataframe tbody tr th {\n",
       "        vertical-align: top;\n",
       "    }\n",
       "\n",
       "    .dataframe thead th {\n",
       "        text-align: right;\n",
       "    }\n",
       "</style>\n",
       "<table border=\"1\" class=\"dataframe\">\n",
       "  <thead>\n",
       "    <tr style=\"text-align: right;\">\n",
       "      <th></th>\n",
       "      <th>Unnamed: 0</th>\n",
       "      <th>uniqueID</th>\n",
       "      <th>drugName</th>\n",
       "      <th>condition</th>\n",
       "      <th>review</th>\n",
       "      <th>rating</th>\n",
       "      <th>date</th>\n",
       "      <th>usefulCount</th>\n",
       "      <th>drug_class</th>\n",
       "      <th>sentiment_label</th>\n",
       "      <th>sentiment</th>\n",
       "    </tr>\n",
       "  </thead>\n",
       "  <tbody>\n",
       "    <tr>\n",
       "      <th>0</th>\n",
       "      <td>0</td>\n",
       "      <td>206461</td>\n",
       "      <td>Valsartan</td>\n",
       "      <td>Left Ventricular Dysfunction</td>\n",
       "      <td>\"It has no side effect, I take it in combinati...</td>\n",
       "      <td>9</td>\n",
       "      <td>20-May-12</td>\n",
       "      <td>27</td>\n",
       "      <td>arb blocker</td>\n",
       "      <td>neutral</td>\n",
       "      <td>0.000000</td>\n",
       "    </tr>\n",
       "    <tr>\n",
       "      <th>1</th>\n",
       "      <td>1</td>\n",
       "      <td>95260</td>\n",
       "      <td>Guanfacine</td>\n",
       "      <td>ADHD</td>\n",
       "      <td>\"My son is halfway through his fourth week of ...</td>\n",
       "      <td>8</td>\n",
       "      <td>27-Apr-10</td>\n",
       "      <td>192</td>\n",
       "      <td>NaN</td>\n",
       "      <td>positive</td>\n",
       "      <td>0.168333</td>\n",
       "    </tr>\n",
       "    <tr>\n",
       "      <th>2</th>\n",
       "      <td>2</td>\n",
       "      <td>92703</td>\n",
       "      <td>Lybrel</td>\n",
       "      <td>Birth Control</td>\n",
       "      <td>\"I used to take another oral contraceptive, wh...</td>\n",
       "      <td>5</td>\n",
       "      <td>14-Dec-09</td>\n",
       "      <td>17</td>\n",
       "      <td>NaN</td>\n",
       "      <td>positive</td>\n",
       "      <td>0.067210</td>\n",
       "    </tr>\n",
       "    <tr>\n",
       "      <th>3</th>\n",
       "      <td>3</td>\n",
       "      <td>138000</td>\n",
       "      <td>Ortho Evra</td>\n",
       "      <td>Birth Control</td>\n",
       "      <td>\"This is my first time using any form of birth...</td>\n",
       "      <td>8</td>\n",
       "      <td>3-Nov-15</td>\n",
       "      <td>10</td>\n",
       "      <td>NaN</td>\n",
       "      <td>positive</td>\n",
       "      <td>0.179545</td>\n",
       "    </tr>\n",
       "    <tr>\n",
       "      <th>4</th>\n",
       "      <td>4</td>\n",
       "      <td>35696</td>\n",
       "      <td>Buprenorphine / naloxone</td>\n",
       "      <td>Opiate Dependence</td>\n",
       "      <td>\"Suboxone has completely turned my life around...</td>\n",
       "      <td>9</td>\n",
       "      <td>27-Nov-16</td>\n",
       "      <td>37</td>\n",
       "      <td>NaN</td>\n",
       "      <td>positive</td>\n",
       "      <td>0.194444</td>\n",
       "    </tr>\n",
       "  </tbody>\n",
       "</table>\n",
       "</div>"
      ],
      "text/plain": [
       "   Unnamed: 0  uniqueID                  drugName  \\\n",
       "0           0    206461                 Valsartan   \n",
       "1           1     95260                Guanfacine   \n",
       "2           2     92703                    Lybrel   \n",
       "3           3    138000                Ortho Evra   \n",
       "4           4     35696  Buprenorphine / naloxone   \n",
       "\n",
       "                      condition  \\\n",
       "0  Left Ventricular Dysfunction   \n",
       "1                          ADHD   \n",
       "2                 Birth Control   \n",
       "3                 Birth Control   \n",
       "4             Opiate Dependence   \n",
       "\n",
       "                                              review  rating       date  \\\n",
       "0  \"It has no side effect, I take it in combinati...       9  20-May-12   \n",
       "1  \"My son is halfway through his fourth week of ...       8  27-Apr-10   \n",
       "2  \"I used to take another oral contraceptive, wh...       5  14-Dec-09   \n",
       "3  \"This is my first time using any form of birth...       8   3-Nov-15   \n",
       "4  \"Suboxone has completely turned my life around...       9  27-Nov-16   \n",
       "\n",
       "   usefulCount   drug_class sentiment_label  sentiment  \n",
       "0           27  arb blocker         neutral   0.000000  \n",
       "1          192          NaN        positive   0.168333  \n",
       "2           17          NaN        positive   0.067210  \n",
       "3           10          NaN        positive   0.179545  \n",
       "4           37          NaN        positive   0.194444  "
      ]
     },
     "execution_count": 5,
     "metadata": {},
     "output_type": "execute_result"
    }
   ],
   "source": [
    "df.head()"
   ]
  },
  {
   "cell_type": "code",
   "execution_count": 6,
   "id": "cc2bec5e",
   "metadata": {},
   "outputs": [
    {
     "data": {
      "text/plain": [
       "Index(['Unnamed: 0', 'uniqueID', 'drugName', 'condition', 'review', 'rating',\n",
       "       'date', 'usefulCount', 'drug_class', 'sentiment_label', 'sentiment'],\n",
       "      dtype='object')"
      ]
     },
     "execution_count": 6,
     "metadata": {},
     "output_type": "execute_result"
    }
   ],
   "source": [
    "df.columns"
   ]
  },
  {
   "cell_type": "code",
   "execution_count": 7,
   "id": "311c9d43",
   "metadata": {},
   "outputs": [
    {
     "data": {
      "text/plain": [
       "Unnamed: 0              0\n",
       "uniqueID                0\n",
       "drugName                0\n",
       "condition             899\n",
       "review                  0\n",
       "rating                  0\n",
       "date                    0\n",
       "usefulCount             0\n",
       "drug_class         137837\n",
       "sentiment_label         0\n",
       "sentiment               0\n",
       "dtype: int64"
      ]
     },
     "execution_count": 7,
     "metadata": {},
     "output_type": "execute_result"
    }
   ],
   "source": [
    "df.isnull().sum()"
   ]
  },
  {
   "cell_type": "code",
   "execution_count": 8,
   "id": "860c2d50",
   "metadata": {},
   "outputs": [
    {
     "data": {
      "text/html": [
       "<div>\n",
       "<style scoped>\n",
       "    .dataframe tbody tr th:only-of-type {\n",
       "        vertical-align: middle;\n",
       "    }\n",
       "\n",
       "    .dataframe tbody tr th {\n",
       "        vertical-align: top;\n",
       "    }\n",
       "\n",
       "    .dataframe thead th {\n",
       "        text-align: right;\n",
       "    }\n",
       "</style>\n",
       "<table border=\"1\" class=\"dataframe\">\n",
       "  <thead>\n",
       "    <tr style=\"text-align: right;\">\n",
       "      <th></th>\n",
       "      <th>count</th>\n",
       "      <th>mean</th>\n",
       "      <th>std</th>\n",
       "      <th>min</th>\n",
       "      <th>25%</th>\n",
       "      <th>50%</th>\n",
       "      <th>75%</th>\n",
       "      <th>max</th>\n",
       "    </tr>\n",
       "  </thead>\n",
       "  <tbody>\n",
       "    <tr>\n",
       "      <th>Unnamed: 0</th>\n",
       "      <td>161297.0</td>\n",
       "      <td>80648.000000</td>\n",
       "      <td>46562.577522</td>\n",
       "      <td>0.0</td>\n",
       "      <td>40324.000000</td>\n",
       "      <td>80648.000000</td>\n",
       "      <td>120972.000000</td>\n",
       "      <td>161296.0</td>\n",
       "    </tr>\n",
       "    <tr>\n",
       "      <th>uniqueID</th>\n",
       "      <td>161297.0</td>\n",
       "      <td>115923.585305</td>\n",
       "      <td>67004.445170</td>\n",
       "      <td>2.0</td>\n",
       "      <td>58063.000000</td>\n",
       "      <td>115744.000000</td>\n",
       "      <td>173776.000000</td>\n",
       "      <td>232291.0</td>\n",
       "    </tr>\n",
       "    <tr>\n",
       "      <th>rating</th>\n",
       "      <td>161297.0</td>\n",
       "      <td>6.994377</td>\n",
       "      <td>3.272329</td>\n",
       "      <td>1.0</td>\n",
       "      <td>5.000000</td>\n",
       "      <td>8.000000</td>\n",
       "      <td>10.000000</td>\n",
       "      <td>10.0</td>\n",
       "    </tr>\n",
       "    <tr>\n",
       "      <th>usefulCount</th>\n",
       "      <td>161297.0</td>\n",
       "      <td>28.004755</td>\n",
       "      <td>36.403742</td>\n",
       "      <td>0.0</td>\n",
       "      <td>6.000000</td>\n",
       "      <td>16.000000</td>\n",
       "      <td>36.000000</td>\n",
       "      <td>1291.0</td>\n",
       "    </tr>\n",
       "    <tr>\n",
       "      <th>sentiment</th>\n",
       "      <td>161297.0</td>\n",
       "      <td>0.064847</td>\n",
       "      <td>0.222437</td>\n",
       "      <td>-1.0</td>\n",
       "      <td>-0.043264</td>\n",
       "      <td>0.058202</td>\n",
       "      <td>0.173722</td>\n",
       "      <td>1.0</td>\n",
       "    </tr>\n",
       "  </tbody>\n",
       "</table>\n",
       "</div>"
      ],
      "text/plain": [
       "                count           mean           std  min           25%  \\\n",
       "Unnamed: 0   161297.0   80648.000000  46562.577522  0.0  40324.000000   \n",
       "uniqueID     161297.0  115923.585305  67004.445170  2.0  58063.000000   \n",
       "rating       161297.0       6.994377      3.272329  1.0      5.000000   \n",
       "usefulCount  161297.0      28.004755     36.403742  0.0      6.000000   \n",
       "sentiment    161297.0       0.064847      0.222437 -1.0     -0.043264   \n",
       "\n",
       "                       50%            75%       max  \n",
       "Unnamed: 0    80648.000000  120972.000000  161296.0  \n",
       "uniqueID     115744.000000  173776.000000  232291.0  \n",
       "rating            8.000000      10.000000      10.0  \n",
       "usefulCount      16.000000      36.000000    1291.0  \n",
       "sentiment         0.058202       0.173722       1.0  "
      ]
     },
     "execution_count": 8,
     "metadata": {},
     "output_type": "execute_result"
    }
   ],
   "source": [
    "df.describe().T"
   ]
  },
  {
   "cell_type": "code",
   "execution_count": 9,
   "id": "b72a5e55",
   "metadata": {},
   "outputs": [
    {
     "name": "stdout",
     "output_type": "stream",
     "text": [
      "<class 'pandas.core.frame.DataFrame'>\n",
      "RangeIndex: 161297 entries, 0 to 161296\n",
      "Data columns (total 11 columns):\n",
      " #   Column           Non-Null Count   Dtype  \n",
      "---  ------           --------------   -----  \n",
      " 0   Unnamed: 0       161297 non-null  int64  \n",
      " 1   uniqueID         161297 non-null  int64  \n",
      " 2   drugName         161297 non-null  object \n",
      " 3   condition        160398 non-null  object \n",
      " 4   review           161297 non-null  object \n",
      " 5   rating           161297 non-null  int64  \n",
      " 6   date             161297 non-null  object \n",
      " 7   usefulCount      161297 non-null  int64  \n",
      " 8   drug_class       23460 non-null   object \n",
      " 9   sentiment_label  161297 non-null  object \n",
      " 10  sentiment        161297 non-null  float64\n",
      "dtypes: float64(1), int64(4), object(6)\n",
      "memory usage: 13.5+ MB\n",
      "============================================================================================================================================\n"
     ]
    },
    {
     "data": {
      "text/plain": [
       "Unnamed: 0           int64\n",
       "uniqueID             int64\n",
       "drugName            object\n",
       "condition           object\n",
       "review              object\n",
       "rating               int64\n",
       "date                object\n",
       "usefulCount          int64\n",
       "drug_class          object\n",
       "sentiment_label     object\n",
       "sentiment          float64\n",
       "dtype: object"
      ]
     },
     "execution_count": 9,
     "metadata": {},
     "output_type": "execute_result"
    }
   ],
   "source": [
    "df.info()\n",
    "print('=============='*10)\n",
    "df.dtypes"
   ]
  },
  {
   "cell_type": "code",
   "execution_count": 10,
   "id": "4f99d2de",
   "metadata": {},
   "outputs": [
    {
     "name": "stdout",
     "output_type": "stream",
     "text": [
      "We number of Drugs are - 3436\n"
     ]
    }
   ],
   "source": [
    "num = len(df['drugName'].unique().tolist())\n",
    "print('We number of Drugs are -',num )"
   ]
  },
  {
   "cell_type": "code",
   "execution_count": 11,
   "id": "79431b9d",
   "metadata": {},
   "outputs": [
    {
     "data": {
      "text/plain": [
       "Levonorgestrel                        3657\n",
       "Etonogestrel                          3336\n",
       "Ethinyl estradiol / norethindrone     2850\n",
       "Nexplanon                             2156\n",
       "Ethinyl estradiol / norgestimate      2117\n",
       "Ethinyl estradiol / levonorgestrel    1888\n",
       "Phentermine                           1543\n",
       "Sertraline                            1360\n",
       "Escitalopram                          1292\n",
       "Mirena                                1242\n",
       "Implanon                              1102\n",
       "Gabapentin                            1047\n",
       "Bupropion                             1022\n",
       "Venlafaxine                           1016\n",
       "Miconazole                            1000\n",
       "Medroxyprogesterone                    995\n",
       "Citalopram                             995\n",
       "Lexapro                                952\n",
       "Bupropion / naltrexone                 950\n",
       "Duloxetine                             934\n",
       "Name: drugName, dtype: int64"
      ]
     },
     "execution_count": 11,
     "metadata": {},
     "output_type": "execute_result"
    }
   ],
   "source": [
    "df['drugName'].value_counts().nlargest(20)"
   ]
  },
  {
   "cell_type": "code",
   "execution_count": 12,
   "id": "6f8dd2e8",
   "metadata": {},
   "outputs": [],
   "source": [
    "drug_suffix = {\"azole\":\"antifungal (except metronidazole)\",\n",
    "\"caine\":\"anesthetic\",\n",
    "\"cillin\":\"antibiotic(penicillins)\",\n",
    "\"mycin\":\"antibiotic\",\n",
    "\"micin\":\"antibiotic\",\n",
    "\"cycline\":\"antibiotic\",\n",
    "\"oxacin\":\"antibiotic\",\n",
    "\"ceph\":\"antibiotic(cephalosporins)\",\n",
    "\"cef\":\"antibiotic (cephalosporins)\",\n",
    "\"dine\":\"h2 blockers (anti-ulcers)\",\n",
    "\"done\":\"opiod analgesics\",\n",
    "\"ide\":\"oral hypoglycemics\",\n",
    "\"lam\":\"anti-anxiety\",\n",
    "\"pam\":\"anti-anxiety\",\n",
    "\"mide\":\"diuretics\",\n",
    "\"zide\":\"diuretics\",\n",
    "\"nium\":\"neuromuscular blocking agents\",\n",
    "\"olol\":\"beta blockers\",\n",
    "\"tidine\":\"h2 antagonist\",\n",
    "\"tropin\":\"pituitary hormone\",\n",
    "\"zosin\":\"alpha blocker\",\n",
    "\"ase\":\"thrombolytics\",\n",
    "\"plase\":\"thrombolytics\",\n",
    "\"azepam\":\"anti-anziety(benzodiazepine)\",\n",
    "\"azine\":\"antipyschotics (phenothiazine)\",\n",
    "\"barbital\":\"barbiturate\",\n",
    "\"dipine\":\"calcium channel blocker\",\n",
    "\"lol\":\"beta blocker\",\n",
    "\"zolam\":\"cns depressants\",\n",
    "\"pril\":\"ace inhibitor\",\n",
    "\"artan\":\"arb blocker\",\n",
    "\"statins\":\"lipid-lowering drugs\",\n",
    "\"parin\":\"anticoagulants\",\n",
    "\"sone\":\"corticosteroid (prednisone)\"}"
   ]
  },
  {
   "cell_type": "code",
   "execution_count": 13,
   "id": "c0769744",
   "metadata": {},
   "outputs": [],
   "source": [
    "def classify_drug(drugname):\n",
    "    for i in drug_suffix.keys():\n",
    "        if drugname.endswith(i):\n",
    "            return drug_suffix[i]"
   ]
  },
  {
   "cell_type": "code",
   "execution_count": 14,
   "id": "cf4d62aa",
   "metadata": {},
   "outputs": [
    {
     "data": {
      "text/plain": [
       "'arb blocker'"
      ]
     },
     "execution_count": 14,
     "metadata": {},
     "output_type": "execute_result"
    }
   ],
   "source": [
    "classify_drug('valsartan')"
   ]
  },
  {
   "cell_type": "code",
   "execution_count": 15,
   "id": "badbf734",
   "metadata": {},
   "outputs": [],
   "source": [
    "df['drug_class'] = df['drugName'].apply(classify_drug)"
   ]
  },
  {
   "cell_type": "code",
   "execution_count": 16,
   "id": "7c5ba28e",
   "metadata": {},
   "outputs": [
    {
     "data": {
      "text/html": [
       "<div>\n",
       "<style scoped>\n",
       "    .dataframe tbody tr th:only-of-type {\n",
       "        vertical-align: middle;\n",
       "    }\n",
       "\n",
       "    .dataframe tbody tr th {\n",
       "        vertical-align: top;\n",
       "    }\n",
       "\n",
       "    .dataframe thead th {\n",
       "        text-align: right;\n",
       "    }\n",
       "</style>\n",
       "<table border=\"1\" class=\"dataframe\">\n",
       "  <thead>\n",
       "    <tr style=\"text-align: right;\">\n",
       "      <th></th>\n",
       "      <th>drugName</th>\n",
       "      <th>drug_class</th>\n",
       "    </tr>\n",
       "  </thead>\n",
       "  <tbody>\n",
       "    <tr>\n",
       "      <th>0</th>\n",
       "      <td>Valsartan</td>\n",
       "      <td>arb blocker</td>\n",
       "    </tr>\n",
       "    <tr>\n",
       "      <th>1</th>\n",
       "      <td>Guanfacine</td>\n",
       "      <td>None</td>\n",
       "    </tr>\n",
       "    <tr>\n",
       "      <th>2</th>\n",
       "      <td>Lybrel</td>\n",
       "      <td>None</td>\n",
       "    </tr>\n",
       "    <tr>\n",
       "      <th>3</th>\n",
       "      <td>Ortho Evra</td>\n",
       "      <td>None</td>\n",
       "    </tr>\n",
       "    <tr>\n",
       "      <th>4</th>\n",
       "      <td>Buprenorphine / naloxone</td>\n",
       "      <td>None</td>\n",
       "    </tr>\n",
       "    <tr>\n",
       "      <th>...</th>\n",
       "      <td>...</td>\n",
       "      <td>...</td>\n",
       "    </tr>\n",
       "    <tr>\n",
       "      <th>161292</th>\n",
       "      <td>Campral</td>\n",
       "      <td>None</td>\n",
       "    </tr>\n",
       "    <tr>\n",
       "      <th>161293</th>\n",
       "      <td>Metoclopramide</td>\n",
       "      <td>oral hypoglycemics</td>\n",
       "    </tr>\n",
       "    <tr>\n",
       "      <th>161294</th>\n",
       "      <td>Orencia</td>\n",
       "      <td>None</td>\n",
       "    </tr>\n",
       "    <tr>\n",
       "      <th>161295</th>\n",
       "      <td>Thyroid desiccated</td>\n",
       "      <td>None</td>\n",
       "    </tr>\n",
       "    <tr>\n",
       "      <th>161296</th>\n",
       "      <td>Lubiprostone</td>\n",
       "      <td>None</td>\n",
       "    </tr>\n",
       "  </tbody>\n",
       "</table>\n",
       "<p>161297 rows × 2 columns</p>\n",
       "</div>"
      ],
      "text/plain": [
       "                        drugName          drug_class\n",
       "0                      Valsartan         arb blocker\n",
       "1                     Guanfacine                None\n",
       "2                         Lybrel                None\n",
       "3                     Ortho Evra                None\n",
       "4       Buprenorphine / naloxone                None\n",
       "...                          ...                 ...\n",
       "161292                   Campral                None\n",
       "161293            Metoclopramide  oral hypoglycemics\n",
       "161294                   Orencia                None\n",
       "161295        Thyroid desiccated                None\n",
       "161296              Lubiprostone                None\n",
       "\n",
       "[161297 rows x 2 columns]"
      ]
     },
     "execution_count": 16,
     "metadata": {},
     "output_type": "execute_result"
    }
   ],
   "source": [
    "df[['drugName','drug_class']]"
   ]
  },
  {
   "cell_type": "code",
   "execution_count": 17,
   "id": "bfb34dd9",
   "metadata": {},
   "outputs": [
    {
     "data": {
      "text/plain": [
       "['arb blocker',\n",
       " None,\n",
       " 'antifungal (except metronidazole)',\n",
       " 'oral hypoglycemics',\n",
       " 'opiod analgesics',\n",
       " 'antibiotic',\n",
       " 'anti-anxiety',\n",
       " 'h2 blockers (anti-ulcers)',\n",
       " 'beta blockers',\n",
       " 'ace inhibitor',\n",
       " 'thrombolytics',\n",
       " 'alpha blocker',\n",
       " 'corticosteroid (prednisone)',\n",
       " 'antipyschotics (phenothiazine)',\n",
       " 'antibiotic(penicillins)',\n",
       " 'barbiturate',\n",
       " 'calcium channel blocker',\n",
       " 'anesthetic',\n",
       " 'pituitary hormone',\n",
       " 'antibiotic (cephalosporins)',\n",
       " 'beta blocker',\n",
       " 'neuromuscular blocking agents',\n",
       " 'anticoagulants']"
      ]
     },
     "execution_count": 17,
     "metadata": {},
     "output_type": "execute_result"
    }
   ],
   "source": [
    "df['drug_class'].unique().tolist()"
   ]
  },
  {
   "cell_type": "code",
   "execution_count": 18,
   "id": "0f6dc96e",
   "metadata": {},
   "outputs": [
    {
     "name": "stdout",
     "output_type": "stream",
     "text": [
      "Groups of Drugs by Class -  23\n"
     ]
    }
   ],
   "source": [
    "grp_drugs = len(df['drug_class'].unique().tolist())\n",
    "print('Groups of Drugs by Class - ',grp_drugs)"
   ]
  },
  {
   "cell_type": "code",
   "execution_count": 19,
   "id": "67fcf77f",
   "metadata": {},
   "outputs": [
    {
     "data": {
      "text/plain": [
       "antifungal (except metronidazole)    4201\n",
       "opiod analgesics                     3945\n",
       "oral hypoglycemics                   3555\n",
       "antibiotic                           3401\n",
       "anti-anxiety                         2645\n",
       "h2 blockers (anti-ulcers)            1228\n",
       "beta blockers                         966\n",
       "corticosteroid (prednisone)           886\n",
       "antipyschotics (phenothiazine)        664\n",
       "arb blocker                           560\n",
       "ace inhibitor                         432\n",
       "calcium channel blocker               233\n",
       "alpha blocker                         153\n",
       "anesthetic                            129\n",
       "antibiotic(penicillins)               119\n",
       "thrombolytics                         116\n",
       "beta blocker                           97\n",
       "neuromuscular blocking agents          45\n",
       "antibiotic (cephalosporins)            29\n",
       "pituitary hormone                      28\n",
       "barbiturate                            19\n",
       "anticoagulants                          9\n",
       "Name: drug_class, dtype: int64"
      ]
     },
     "execution_count": 19,
     "metadata": {},
     "output_type": "execute_result"
    }
   ],
   "source": [
    "df['drug_class'].value_counts()"
   ]
  },
  {
   "cell_type": "code",
   "execution_count": 20,
   "id": "195f265c",
   "metadata": {},
   "outputs": [],
   "source": [
    "drug_groups = df.groupby('drug_class').size()"
   ]
  },
  {
   "cell_type": "code",
   "execution_count": 21,
   "id": "ba0188d1",
   "metadata": {},
   "outputs": [
    {
     "data": {
      "text/plain": [
       "pandas.core.series.Series"
      ]
     },
     "execution_count": 21,
     "metadata": {},
     "output_type": "execute_result"
    }
   ],
   "source": [
    "type(drug_groups)\n"
   ]
  },
  {
   "cell_type": "code",
   "execution_count": 22,
   "id": "38de44bd",
   "metadata": {},
   "outputs": [
    {
     "data": {
      "text/html": [
       "<div>\n",
       "<style scoped>\n",
       "    .dataframe tbody tr th:only-of-type {\n",
       "        vertical-align: middle;\n",
       "    }\n",
       "\n",
       "    .dataframe tbody tr th {\n",
       "        vertical-align: top;\n",
       "    }\n",
       "\n",
       "    .dataframe thead th {\n",
       "        text-align: right;\n",
       "    }\n",
       "</style>\n",
       "<table border=\"1\" class=\"dataframe\">\n",
       "  <thead>\n",
       "    <tr style=\"text-align: right;\">\n",
       "      <th></th>\n",
       "      <th>0</th>\n",
       "    </tr>\n",
       "    <tr>\n",
       "      <th>drug_class</th>\n",
       "      <th></th>\n",
       "    </tr>\n",
       "  </thead>\n",
       "  <tbody>\n",
       "    <tr>\n",
       "      <th>ace inhibitor</th>\n",
       "      <td>432</td>\n",
       "    </tr>\n",
       "    <tr>\n",
       "      <th>alpha blocker</th>\n",
       "      <td>153</td>\n",
       "    </tr>\n",
       "    <tr>\n",
       "      <th>anesthetic</th>\n",
       "      <td>129</td>\n",
       "    </tr>\n",
       "    <tr>\n",
       "      <th>anti-anxiety</th>\n",
       "      <td>2645</td>\n",
       "    </tr>\n",
       "    <tr>\n",
       "      <th>antibiotic</th>\n",
       "      <td>3401</td>\n",
       "    </tr>\n",
       "    <tr>\n",
       "      <th>antibiotic (cephalosporins)</th>\n",
       "      <td>29</td>\n",
       "    </tr>\n",
       "    <tr>\n",
       "      <th>antibiotic(penicillins)</th>\n",
       "      <td>119</td>\n",
       "    </tr>\n",
       "    <tr>\n",
       "      <th>anticoagulants</th>\n",
       "      <td>9</td>\n",
       "    </tr>\n",
       "    <tr>\n",
       "      <th>antifungal (except metronidazole)</th>\n",
       "      <td>4201</td>\n",
       "    </tr>\n",
       "    <tr>\n",
       "      <th>antipyschotics (phenothiazine)</th>\n",
       "      <td>664</td>\n",
       "    </tr>\n",
       "    <tr>\n",
       "      <th>arb blocker</th>\n",
       "      <td>560</td>\n",
       "    </tr>\n",
       "    <tr>\n",
       "      <th>barbiturate</th>\n",
       "      <td>19</td>\n",
       "    </tr>\n",
       "    <tr>\n",
       "      <th>beta blocker</th>\n",
       "      <td>97</td>\n",
       "    </tr>\n",
       "    <tr>\n",
       "      <th>beta blockers</th>\n",
       "      <td>966</td>\n",
       "    </tr>\n",
       "    <tr>\n",
       "      <th>calcium channel blocker</th>\n",
       "      <td>233</td>\n",
       "    </tr>\n",
       "    <tr>\n",
       "      <th>corticosteroid (prednisone)</th>\n",
       "      <td>886</td>\n",
       "    </tr>\n",
       "    <tr>\n",
       "      <th>h2 blockers (anti-ulcers)</th>\n",
       "      <td>1228</td>\n",
       "    </tr>\n",
       "    <tr>\n",
       "      <th>neuromuscular blocking agents</th>\n",
       "      <td>45</td>\n",
       "    </tr>\n",
       "    <tr>\n",
       "      <th>opiod analgesics</th>\n",
       "      <td>3945</td>\n",
       "    </tr>\n",
       "    <tr>\n",
       "      <th>oral hypoglycemics</th>\n",
       "      <td>3555</td>\n",
       "    </tr>\n",
       "    <tr>\n",
       "      <th>pituitary hormone</th>\n",
       "      <td>28</td>\n",
       "    </tr>\n",
       "    <tr>\n",
       "      <th>thrombolytics</th>\n",
       "      <td>116</td>\n",
       "    </tr>\n",
       "  </tbody>\n",
       "</table>\n",
       "</div>"
      ],
      "text/plain": [
       "                                      0\n",
       "drug_class                             \n",
       "ace inhibitor                       432\n",
       "alpha blocker                       153\n",
       "anesthetic                          129\n",
       "anti-anxiety                       2645\n",
       "antibiotic                         3401\n",
       "antibiotic (cephalosporins)          29\n",
       "antibiotic(penicillins)             119\n",
       "anticoagulants                        9\n",
       "antifungal (except metronidazole)  4201\n",
       "antipyschotics (phenothiazine)      664\n",
       "arb blocker                         560\n",
       "barbiturate                          19\n",
       "beta blocker                         97\n",
       "beta blockers                       966\n",
       "calcium channel blocker             233\n",
       "corticosteroid (prednisone)         886\n",
       "h2 blockers (anti-ulcers)          1228\n",
       "neuromuscular blocking agents        45\n",
       "opiod analgesics                   3945\n",
       "oral hypoglycemics                 3555\n",
       "pituitary hormone                    28\n",
       "thrombolytics                       116"
      ]
     },
     "execution_count": 22,
     "metadata": {},
     "output_type": "execute_result"
    }
   ],
   "source": [
    "drug_groups.to_frame()"
   ]
  },
  {
   "cell_type": "code",
   "execution_count": 23,
   "id": "2fc3dd1c",
   "metadata": {},
   "outputs": [],
   "source": [
    "drug_groups_df = pd.DataFrame({'drug_class':drug_groups.index,'counts':drug_groups.values})"
   ]
  },
  {
   "cell_type": "code",
   "execution_count": 24,
   "id": "01cb38cf",
   "metadata": {},
   "outputs": [
    {
     "data": {
      "text/plain": [
       "885"
      ]
     },
     "execution_count": 24,
     "metadata": {},
     "output_type": "execute_result"
    }
   ],
   "source": [
    "len(df['condition'].unique().tolist())"
   ]
  },
  {
   "cell_type": "code",
   "execution_count": 25,
   "id": "ea1794ee",
   "metadata": {},
   "outputs": [
    {
     "data": {
      "text/plain": [
       "Birth Control                                              28788\n",
       "Depression                                                  9069\n",
       "Pain                                                        6145\n",
       "Anxiety                                                     5904\n",
       "Acne                                                        5588\n",
       "                                                           ...  \n",
       "Dissociative Identity Disorde                                  1\n",
       "Hydrocephalus                                                  1\n",
       "Hyperlipoproteinemia Type III, Elevated beta-VLDL   IDL        1\n",
       "Q Feve                                                         1\n",
       "Neutropenia                                                    1\n",
       "Name: condition, Length: 884, dtype: int64"
      ]
     },
     "execution_count": 25,
     "metadata": {},
     "output_type": "execute_result"
    }
   ],
   "source": [
    "df['condition'].value_counts()"
   ]
  },
  {
   "cell_type": "code",
   "execution_count": 26,
   "id": "99fa2c80",
   "metadata": {},
   "outputs": [],
   "source": [
    "common_conditions = df['condition'].value_counts().nlargest(20)"
   ]
  },
  {
   "cell_type": "code",
   "execution_count": 27,
   "id": "76cc2a9f",
   "metadata": {},
   "outputs": [],
   "source": [
    "new = pd.DataFrame({'drug_class':common_conditions.index,'counts':common_conditions.values})"
   ]
  },
  {
   "cell_type": "code",
   "execution_count": 28,
   "id": "cc60a9d3",
   "metadata": {},
   "outputs": [
    {
     "data": {
      "text/plain": [
       "Meningococcal Meningitis Prophylaxis                     1\n",
       "mist (                                                   1\n",
       "Cluster-Tic Syndrome                                     1\n",
       "Syringomyelia                                            1\n",
       "Gestational Diabetes                                     1\n",
       "Aspergillosis, Aspergilloma                              1\n",
       "Pseudogout, Prophylaxis                                  1\n",
       "Portal Hypertension                                      1\n",
       "Reversal of Nondepolarizing Muscle Relaxants             1\n",
       "47</span> users found this comment helpful.              1\n",
       "Short Stature for Age                                    1\n",
       "Neurotic Depression                                      1\n",
       "Cerebral Edema                                           1\n",
       "me                                                       1\n",
       "Hyperuricemia Secondary to Chemotherapy                  1\n",
       "Prevention of Perinatal Group B Streptococcal Disease    1\n",
       "Small Bowel or Pancreatic Fistula                        1\n",
       "Pemphigoid                                               1\n",
       "Keratitis                                                1\n",
       "123</span> users found this comment helpful.             1\n",
       "Name: condition, dtype: int64"
      ]
     },
     "execution_count": 28,
     "metadata": {},
     "output_type": "execute_result"
    }
   ],
   "source": [
    "df['condition'].value_counts().nsmallest(20)"
   ]
  },
  {
   "cell_type": "code",
   "execution_count": 29,
   "id": "c35babe1",
   "metadata": {},
   "outputs": [],
   "source": [
    "drug_per_cond = df.groupby('condition')['drugName'].nunique().nlargest(20)"
   ]
  },
  {
   "cell_type": "code",
   "execution_count": 30,
   "id": "69fa8921",
   "metadata": {},
   "outputs": [],
   "source": [
    "drug_per_cond_df = pd.DataFrame({'drug_class':drug_per_cond.index,'counts':drug_per_cond.values})"
   ]
  },
  {
   "cell_type": "code",
   "execution_count": 31,
   "id": "05c88964",
   "metadata": {},
   "outputs": [
    {
     "data": {
      "text/plain": [
       "drugName\n",
       "A + D Cracked Skin Relief               10.000000\n",
       "A / B Otic                              10.000000\n",
       "Abacavir / dolutegravir / lamivudine     8.211538\n",
       "Abacavir / lamivudine / zidovudine       9.000000\n",
       "Abatacept                                7.157895\n",
       "                                          ...    \n",
       "Zyvox                                    9.000000\n",
       "ZzzQuil                                  2.500000\n",
       "depo-subQ provera 104                    1.000000\n",
       "ella                                     6.980392\n",
       "femhrt                                   4.000000\n",
       "Name: rating, Length: 3436, dtype: float64"
      ]
     },
     "execution_count": 31,
     "metadata": {},
     "output_type": "execute_result"
    }
   ],
   "source": [
    "avg_rating = (df['rating'].groupby(df['drugName']).mean())\n",
    "avg_rating"
   ]
  },
  {
   "cell_type": "code",
   "execution_count": 32,
   "id": "43399940",
   "metadata": {},
   "outputs": [
    {
     "data": {
      "text/plain": [
       "0    \"It has no side effect, I take it in combinati...\n",
       "1    \"My son is halfway through his fourth week of ...\n",
       "2    \"I used to take another oral contraceptive, wh...\n",
       "3    \"This is my first time using any form of birth...\n",
       "4    \"Suboxone has completely turned my life around...\n",
       "Name: review, dtype: object"
      ]
     },
     "execution_count": 32,
     "metadata": {},
     "output_type": "execute_result"
    }
   ],
   "source": [
    "df['review'].head()"
   ]
  },
  {
   "cell_type": "code",
   "execution_count": 33,
   "id": "e9852e35",
   "metadata": {},
   "outputs": [],
   "source": [
    "from textblob import TextBlob"
   ]
  },
  {
   "cell_type": "code",
   "execution_count": 34,
   "id": "bc903bb2",
   "metadata": {},
   "outputs": [
    {
     "name": "stdout",
     "output_type": "stream",
     "text": [
      "Requirement already satisfied: textblob in ./opt/anaconda3/lib/python3.9/site-packages (0.17.1)\r\n",
      "Requirement already satisfied: nltk>=3.1 in ./opt/anaconda3/lib/python3.9/site-packages (from textblob) (3.7)\r\n",
      "Requirement already satisfied: joblib in ./opt/anaconda3/lib/python3.9/site-packages (from nltk>=3.1->textblob) (1.1.0)\r\n",
      "Requirement already satisfied: tqdm in ./opt/anaconda3/lib/python3.9/site-packages (from nltk>=3.1->textblob) (4.64.0)\r\n",
      "Requirement already satisfied: regex>=2021.8.3 in ./opt/anaconda3/lib/python3.9/site-packages (from nltk>=3.1->textblob) (2022.3.15)\r\n",
      "Requirement already satisfied: click in ./opt/anaconda3/lib/python3.9/site-packages (from nltk>=3.1->textblob) (8.0.4)\r\n"
     ]
    }
   ],
   "source": [
    "!pip install textblob"
   ]
  },
  {
   "cell_type": "code",
   "execution_count": 35,
   "id": "429ee9ed",
   "metadata": {},
   "outputs": [],
   "source": [
    "from textblob import TextBlob"
   ]
  },
  {
   "cell_type": "code",
   "execution_count": 36,
   "id": "0ab3fc8b",
   "metadata": {},
   "outputs": [
    {
     "data": {
      "text/plain": [
       "0    \"It has no side effect, I take it in combinati...\n",
       "1    \"My son is halfway through his fourth week of ...\n",
       "2    \"I used to take another oral contraceptive, wh...\n",
       "3    \"This is my first time using any form of birth...\n",
       "4    \"Suboxone has completely turned my life around...\n",
       "Name: review, dtype: object"
      ]
     },
     "execution_count": 36,
     "metadata": {},
     "output_type": "execute_result"
    }
   ],
   "source": [
    "df['review'].head()"
   ]
  },
  {
   "cell_type": "code",
   "execution_count": 37,
   "id": "bc2af5a9",
   "metadata": {},
   "outputs": [],
   "source": [
    "def get_sentiment(text):\n",
    "    blob = TextBlob(text)\n",
    "    return blob.polarity\n",
    "\n",
    "def get_sentiment_label(text):\n",
    "    blob = TextBlob(text)\n",
    "    if blob.polarity > 0:\n",
    "        result = 'positive'\n",
    "    elif blob.polarity < 0:\n",
    "        result = 'negative'\n",
    "    else:\n",
    "        result = 'neutral'\n",
    "    return result"
   ]
  },
  {
   "cell_type": "code",
   "execution_count": 38,
   "id": "8c60690d",
   "metadata": {},
   "outputs": [],
   "source": [
    "df['sentiment_label'] = df['review'].apply(get_sentiment_label)\n",
    "df['sentiment'] = df['review'].apply(get_sentiment)"
   ]
  },
  {
   "cell_type": "code",
   "execution_count": 52,
   "id": "61a39149",
   "metadata": {},
   "outputs": [],
   "source": [
    "X=df[['review','sentiment','sentiment_label']].head()"
   ]
  },
  {
   "cell_type": "code",
   "execution_count": 40,
   "id": "22a523ab",
   "metadata": {},
   "outputs": [
    {
     "data": {
      "text/plain": [
       "positive    101041\n",
       "negative     53303\n",
       "neutral       6953\n",
       "Name: sentiment_label, dtype: int64"
      ]
     },
     "execution_count": 40,
     "metadata": {},
     "output_type": "execute_result"
    }
   ],
   "source": [
    "df['sentiment_label'].value_counts()"
   ]
  },
  {
   "cell_type": "code",
   "execution_count": 41,
   "id": "37b2aaa8",
   "metadata": {},
   "outputs": [
    {
     "data": {
      "image/png": "[encoded data removed]",
      "text/plain": [
       "<Figure size 864x432 with 1 Axes>"
      ]
     },
     "metadata": {},
     "output_type": "display_data"
    }
   ],
   "source": [
    "plt.figure(figsize=(12,6))\n",
    "\n",
    "def autopct_format(values):\n",
    "        def my_format(pct):\n",
    "            total = sum(values)\n",
    "            val = int(round(pct*total/100.0))\n",
    "            return '{:.1f}%\\n({v:d})'.format(pct, v=val)\n",
    "        return my_format\n",
    "\n",
    "s = df['sentiment_label'].value_counts()\n",
    "plt.pie(s,labels = s.index, autopct=autopct_format(s))\n",
    "plt.show()"
   ]
  },
  {
   "cell_type": "code",
   "execution_count": 42,
   "id": "9c08b23f",
   "metadata": {},
   "outputs": [
    {
     "data": {
      "text/plain": [
       "positive    101041\n",
       "negative     53303\n",
       "neutral       6953\n",
       "Name: sentiment_label, dtype: int64"
      ]
     },
     "execution_count": 42,
     "metadata": {},
     "output_type": "execute_result"
    }
   ],
   "source": [
    "df['sentiment_label'].value_counts()"
   ]
  },
  {
   "cell_type": "code",
   "execution_count": 43,
   "id": "2af1f9c5",
   "metadata": {},
   "outputs": [
    {
     "data": {
      "image/png": "[encoded data removed]",
      "text/plain": [
       "<Figure size 864x432 with 1 Axes>"
      ]
     },
     "metadata": {
      "needs_background": "light"
     },
     "output_type": "display_data"
    }
   ],
   "source": [
    "plt.figure(figsize=(12,6))\n",
    "sns.lineplot(data=df,x='rating',y='sentiment')\n",
    "plt.show()"
   ]
  },
  {
   "cell_type": "code",
   "execution_count": 47,
   "id": "716b41ad",
   "metadata": {},
   "outputs": [
    {
     "data": {
      "text/plain": [
       "'/Users/shaikthasneem/Downloads'"
      ]
     },
     "execution_count": 47,
     "metadata": {},
     "output_type": "execute_result"
    }
   ],
   "source": [
    "import os\n",
    "os.getcwd()"
   ]
  },
  {
   "cell_type": "code",
   "execution_count": 45,
   "id": "9b7d7c93",
   "metadata": {},
   "outputs": [],
   "source": [
    "os.chdir('/Users/shaikthasneem/Applications')"
   ]
  },
  {
   "cell_type": "code",
   "execution_count": null,
   "id": "10e6984a",
   "metadata": {},
   "outputs": [],
   "source": [
    "df.to_csv('new_drugsComTrain_raw.csv')"
   ]
  },
  {
   "cell_type": "code",
   "execution_count": 46,
   "id": "33e12ca0",
   "metadata": {},
   "outputs": [],
   "source": [
    "os.chdir('/Users/shaikthasneem/Downloads')"
   ]
  },
  {
   "cell_type": "code",
   "execution_count": 48,
   "id": "8544872c",
   "metadata": {},
   "outputs": [],
   "source": [
    "Y = df.drop(['uniqueID','drugName','condition','date','usefulCount','drug_class','sentiment_label','sentiment'], axis = 1)"
   ]
  },
  {
   "cell_type": "code",
   "execution_count": 54,
   "id": "b2543c19",
   "metadata": {},
   "outputs": [
    {
     "name": "stdout",
     "output_type": "stream",
     "text": [
      "        Unnamed: 0                                             review  rating\n",
      "0                0  \"It has no side effect, I take it in combinati...       9\n",
      "1                1  \"My son is halfway through his fourth week of ...       8\n",
      "2                2  \"I used to take another oral contraceptive, wh...       5\n",
      "3                3  \"This is my first time using any form of birth...       8\n",
      "4                4  \"Suboxone has completely turned my life around...       9\n",
      "...            ...                                                ...     ...\n",
      "161292      161292  \"I wrote my first report in Mid-October of 201...      10\n",
      "161293      161293  \"I was given this in IV before surgey. I immed...       1\n",
      "161294      161294  \"Limited improvement after 4 months, developed...       2\n",
      "161295      161295  \"I&#039;ve been on thyroid medication 49 years...      10\n",
      "161296      161296  \"I&#039;ve had chronic constipation all my adu...       9\n",
      "\n",
      "[161297 rows x 3 columns]\n"
     ]
    }
   ],
   "source": [
    "print(Y)"
   ]
  },
  {
   "cell_type": "code",
   "execution_count": 53,
   "id": "378b2ece",
   "metadata": {},
   "outputs": [],
   "source": [
    "X.to_csv('new1_drugsComTrain_raw.csv')"
   ]
  },
  {
   "cell_type": "code",
   "execution_count": 55,
   "id": "47952fbb",
   "metadata": {},
   "outputs": [
    {
     "name": "stdout",
     "output_type": "stream",
     "text": [
      "<class 'pandas.core.frame.DataFrame'>\n",
      "RangeIndex: 161297 entries, 0 to 161296\n",
      "Data columns (total 3 columns):\n",
      " #   Column      Non-Null Count   Dtype \n",
      "---  ------      --------------   ----- \n",
      " 0   Unnamed: 0  161297 non-null  int64 \n",
      " 1   review      161297 non-null  object\n",
      " 2   rating      161297 non-null  int64 \n",
      "dtypes: int64(2), object(1)\n",
      "memory usage: 3.7+ MB\n"
     ]
    }
   ],
   "source": [
    "Y.info()"
   ]
  },
  {
   "cell_type": "code",
   "execution_count": null,
   "id": "21e3a82b",
   "metadata": {},
   "outputs": [],
   "source": []
  }
 ],
 "metadata": {
  "kernelspec": {
   "display_name": "Python 3 (ipykernel)",
   "language": "python",
   "name": "python3"
  },
  "language_info": {
   "codemirror_mode": {
    "name": "ipython",
    "version": 3
   },
   "file_extension": ".py",
   "mimetype": "text/x-python",
   "name": "python",
   "nbconvert_exporter": "python",
   "pygments_lexer": "ipython3",
   "version": "3.9.12"
  }
 },
 "nbformat": 4,
 "nbformat_minor": 5
}
